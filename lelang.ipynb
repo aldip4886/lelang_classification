{
 "cells": [
  {
   "cell_type": "markdown",
   "metadata": {},
   "source": [
    "#### Install & import Library\n"
   ]
  },
  {
   "cell_type": "code",
   "execution_count": 2,
   "metadata": {},
   "outputs": [
    {
     "name": "stdout",
     "output_type": "stream",
     "text": [
      "Requirement already satisfied: xgboost in c:\\users\\aldip\\appdata\\local\\packages\\pythonsoftwarefoundation.python.3.10_qbz5n2kfra8p0\\localcache\\local-packages\\python310\\site-packages (1.6.2)\n",
      "Requirement already satisfied: numpy in c:\\users\\aldip\\appdata\\local\\packages\\pythonsoftwarefoundation.python.3.10_qbz5n2kfra8p0\\localcache\\local-packages\\python310\\site-packages (from xgboost) (1.23.3)\n",
      "Requirement already satisfied: scipy in c:\\users\\aldip\\appdata\\local\\packages\\pythonsoftwarefoundation.python.3.10_qbz5n2kfra8p0\\localcache\\local-packages\\python310\\site-packages (from xgboost) (1.9.1)\n"
     ]
    },
    {
     "name": "stderr",
     "output_type": "stream",
     "text": [
      "\n",
      "[notice] A new release of pip available: 22.2.2 -> 22.3\n",
      "[notice] To update, run: C:\\Users\\aldip\\AppData\\Local\\Microsoft\\WindowsApps\\PythonSoftwareFoundation.Python.3.10_qbz5n2kfra8p0\\python.exe -m pip install --upgrade pip\n"
     ]
    },
    {
     "name": "stdout",
     "output_type": "stream",
     "text": [
      "Requirement already satisfied: fast_ml in c:\\users\\aldip\\appdata\\local\\packages\\pythonsoftwarefoundation.python.3.10_qbz5n2kfra8p0\\localcache\\local-packages\\python310\\site-packages (3.68)\n"
     ]
    },
    {
     "name": "stderr",
     "output_type": "stream",
     "text": [
      "\n",
      "[notice] A new release of pip available: 22.2.2 -> 22.3\n",
      "[notice] To update, run: C:\\Users\\aldip\\AppData\\Local\\Microsoft\\WindowsApps\\PythonSoftwareFoundation.Python.3.10_qbz5n2kfra8p0\\python.exe -m pip install --upgrade pip\n"
     ]
    }
   ],
   "source": [
    "!pip install xgboost\n",
    "!pip install fast_ml\n",
    "\n",
    "# standard ML library\n",
    "import pandas as pd\n",
    "import numpy as np\n",
    "import matplotlib.pyplot as plt\n",
    "import seaborn as sns\n",
    "\n",
    "# tambahan\n",
    "import plotly.express as px\n",
    "\n",
    "# Preprocess\n",
    "from sklearn.preprocessing import Normalizer\n",
    "from sklearn.decomposition import PCA\n",
    "from sklearn.preprocessing import LabelEncoder\n",
    "\n",
    "sns.set(rc={'figure.figsize':(20,8)})\n",
    "le = LabelEncoder()\n",
    "\n",
    "# Tuning\n",
    "from sklearn.model_selection import validation_curve, LeaveOneOut, train_test_split, cross_val_score, KFold, cross_validate, GridSearchCV\n",
    "from sklearn.feature_selection import SelectKBest, SelectPercentile, chi2, SelectFromModel\n",
    "from sklearn.metrics import classification_report, roc_curve, roc_auc_score, accuracy_score, auc, RocCurveDisplay, confusion_matrix, ConfusionMatrixDisplay\n",
    "from fast_ml.model_development import train_valid_test_split\n",
    "\n",
    "# models\n",
    "from sklearn.linear_model import LogisticRegression, Perceptron, LinearRegression\n",
    "from sklearn.neighbors import KNeighborsClassifier\n",
    "from sklearn.svm import SVC\n",
    "from sklearn.tree import DecisionTreeClassifier\n",
    "from sklearn.naive_bayes import GaussianNB\n",
    "from sklearn.ensemble import VotingClassifier, StackingClassifier, RandomForestClassifier, AdaBoostClassifier\n",
    "from xgboost import XGBClassifier"
   ]
  },
  {
   "cell_type": "markdown",
   "metadata": {},
   "source": [
    "#### Load dataset"
   ]
  },
  {
   "cell_type": "code",
   "execution_count": 5,
   "metadata": {},
   "outputs": [],
   "source": [
    "df_lelang = pd.read_csv('https://raw.githubusercontent.com/aldip4886/lelang_classification/main/Dataset/lelang_kota_tangerang.csv', encoding='cp1252')\n",
    "\n"
   ]
  },
  {
   "cell_type": "markdown",
   "metadata": {},
   "source": [
    "#### EDA"
   ]
  },
  {
   "cell_type": "code",
   "execution_count": 4,
   "metadata": {},
   "outputs": [
    {
     "data": {
      "text/html": [
       "<div>\n",
       "<style scoped>\n",
       "    .dataframe tbody tr th:only-of-type {\n",
       "        vertical-align: middle;\n",
       "    }\n",
       "\n",
       "    .dataframe tbody tr th {\n",
       "        vertical-align: top;\n",
       "    }\n",
       "\n",
       "    .dataframe thead th {\n",
       "        text-align: right;\n",
       "    }\n",
       "</style>\n",
       "<table border=\"1\" class=\"dataframe\">\n",
       "  <thead>\n",
       "    <tr style=\"text-align: right;\">\n",
       "      <th></th>\n",
       "      <th>KDOE_LELANG</th>\n",
       "      <th>NAMA_PAKET</th>\n",
       "      <th>SATKER</th>\n",
       "      <th>KUALIFIKASI</th>\n",
       "      <th>METODE</th>\n",
       "      <th>EVALUASI</th>\n",
       "      <th>JENIS</th>\n",
       "      <th>TAHUN</th>\n",
       "      <th>IS_GAGAL</th>\n",
       "      <th>HPS</th>\n",
       "    </tr>\n",
       "  </thead>\n",
       "  <tbody>\n",
       "    <tr>\n",
       "      <th>0</th>\n",
       "      <td>24345066</td>\n",
       "      <td>PEMATANGAN LAHAN RUSUNAWA</td>\n",
       "      <td>PEMERINTAH DAERAH KOTA TANGERANG</td>\n",
       "      <td>PASCAKUALIFIKASI SATU FILE</td>\n",
       "      <td>TENDER</td>\n",
       "      <td>HARGA TERENDAH SISTEM GUGUR</td>\n",
       "      <td>PEKERJAAN KONSTRUKSI</td>\n",
       "      <td>2022</td>\n",
       "      <td>0</td>\n",
       "      <td>2.200000e+09</td>\n",
       "    </tr>\n",
       "    <tr>\n",
       "      <th>1</th>\n",
       "      <td>24338066</td>\n",
       "      <td>PENGADAAN, PEMASANGAN POMPA LISTRIK DAN INSTAL...</td>\n",
       "      <td>PEMERINTAH DAERAH KOTA TANGERANG</td>\n",
       "      <td>PASCAKUALIFIKASI SATU FILE</td>\n",
       "      <td>TENDER</td>\n",
       "      <td>HARGA TERENDAH SISTEM GUGUR</td>\n",
       "      <td>PENGADAAN BARANG</td>\n",
       "      <td>2022</td>\n",
       "      <td>0</td>\n",
       "      <td>3.841000e+08</td>\n",
       "    </tr>\n",
       "    <tr>\n",
       "      <th>2</th>\n",
       "      <td>24337066</td>\n",
       "      <td>PENGADAAN DAN PEMASANGAN POMPA LISTRIK DAN INS...</td>\n",
       "      <td>PEMERINTAH DAERAH KOTA TANGERANG</td>\n",
       "      <td>PASCAKUALIFIKASI SATU FILE</td>\n",
       "      <td>TENDER</td>\n",
       "      <td>HARGA TERENDAH SISTEM GUGUR</td>\n",
       "      <td>PENGADAAN BARANG</td>\n",
       "      <td>2022</td>\n",
       "      <td>0</td>\n",
       "      <td>2.164000e+08</td>\n",
       "    </tr>\n",
       "    <tr>\n",
       "      <th>3</th>\n",
       "      <td>24336066</td>\n",
       "      <td>PENGADAAN, PEMASANGAN POMPA LISTRIK DAN INSTAL...</td>\n",
       "      <td>PEMERINTAH DAERAH KOTA TANGERANG</td>\n",
       "      <td>PASCAKUALIFIKASI SATU FILE</td>\n",
       "      <td>TENDER</td>\n",
       "      <td>HARGA TERENDAH SISTEM GUGUR</td>\n",
       "      <td>PENGADAAN BARANG</td>\n",
       "      <td>2022</td>\n",
       "      <td>0</td>\n",
       "      <td>3.841000e+08</td>\n",
       "    </tr>\n",
       "    <tr>\n",
       "      <th>4</th>\n",
       "      <td>24335066</td>\n",
       "      <td>PENGADAAN, PEMASANGAN POMPA LISTRIK DAN INSTAL...</td>\n",
       "      <td>PEMERINTAH DAERAH KOTA TANGERANG</td>\n",
       "      <td>PASCAKUALIFIKASI SATU FILE</td>\n",
       "      <td>TENDER</td>\n",
       "      <td>HARGA TERENDAH SISTEM GUGUR</td>\n",
       "      <td>PENGADAAN BARANG</td>\n",
       "      <td>2022</td>\n",
       "      <td>0</td>\n",
       "      <td>3.841000e+08</td>\n",
       "    </tr>\n",
       "    <tr>\n",
       "      <th>...</th>\n",
       "      <td>...</td>\n",
       "      <td>...</td>\n",
       "      <td>...</td>\n",
       "      <td>...</td>\n",
       "      <td>...</td>\n",
       "      <td>...</td>\n",
       "      <td>...</td>\n",
       "      <td>...</td>\n",
       "      <td>...</td>\n",
       "      <td>...</td>\n",
       "    </tr>\n",
       "    <tr>\n",
       "      <th>8292</th>\n",
       "      <td>5066</td>\n",
       "      <td>PENGADAAN OBAT PADA KEGIATAN PENGADAAN OBAT DA...</td>\n",
       "      <td>KOTA TANGERANG</td>\n",
       "      <td>PASCAKUALIFIKASI SATU FILE</td>\n",
       "      <td>LELANG UMUM</td>\n",
       "      <td>HARGA TERENDAH SISTEM GUGUR</td>\n",
       "      <td>PENGADAAN BARANG</td>\n",
       "      <td>2010</td>\n",
       "      <td>0</td>\n",
       "      <td>7.354000e+08</td>\n",
       "    </tr>\n",
       "    <tr>\n",
       "      <th>8293</th>\n",
       "      <td>4066</td>\n",
       "      <td>PENGADAAN PAKAIAN DINAS DPRD KOTA TANGERANG</td>\n",
       "      <td>KOTA TANGERANG</td>\n",
       "      <td>PASCAKUALIFIKASI SATU FILE</td>\n",
       "      <td>LELANG UMUM</td>\n",
       "      <td>HARGA TERENDAH SISTEM GUGUR</td>\n",
       "      <td>PENGADAAN BARANG</td>\n",
       "      <td>2010</td>\n",
       "      <td>0</td>\n",
       "      <td>3.632000e+08</td>\n",
       "    </tr>\n",
       "    <tr>\n",
       "      <th>8294</th>\n",
       "      <td>3066</td>\n",
       "      <td>PENGADAAN MEUBELAIR KELURAHAN TAHUN ANGGARAN 2010</td>\n",
       "      <td>KOTA TANGERANG</td>\n",
       "      <td>PASCAKUALIFIKASI SATU FILE</td>\n",
       "      <td>LELANG UMUM</td>\n",
       "      <td>HARGA TERENDAH SISTEM GUGUR</td>\n",
       "      <td>PENGADAAN BARANG</td>\n",
       "      <td>2010</td>\n",
       "      <td>0</td>\n",
       "      <td>8.886000e+08</td>\n",
       "    </tr>\n",
       "    <tr>\n",
       "      <th>8295</th>\n",
       "      <td>2066</td>\n",
       "      <td>PENUNJANG TMMD</td>\n",
       "      <td>KOTA TANGERANG</td>\n",
       "      <td>PASCAKUALIFIKASI SATU FILE</td>\n",
       "      <td>LELANG UMUM</td>\n",
       "      <td>HARGA TERENDAH SISTEM GUGUR</td>\n",
       "      <td>PENGADAAN BARANG</td>\n",
       "      <td>2010</td>\n",
       "      <td>0</td>\n",
       "      <td>1.481000e+08</td>\n",
       "    </tr>\n",
       "    <tr>\n",
       "      <th>8296</th>\n",
       "      <td>1066</td>\n",
       "      <td>PENGADAAN PRASARANA DAN PERLENGKAPAN POSYANDU ...</td>\n",
       "      <td>KOTA TANGERANG</td>\n",
       "      <td>PASCAKUALIFIKASI SATU FILE</td>\n",
       "      <td>LELANG UMUM</td>\n",
       "      <td>HARGA TERENDAH SISTEM GUGUR</td>\n",
       "      <td>PENGADAAN BARANG</td>\n",
       "      <td>2010</td>\n",
       "      <td>0</td>\n",
       "      <td>6.653000e+08</td>\n",
       "    </tr>\n",
       "  </tbody>\n",
       "</table>\n",
       "<p>8297 rows × 10 columns</p>\n",
       "</div>"
      ],
      "text/plain": [
       "      KDOE_LELANG                                         NAMA_PAKET  \\\n",
       "0        24345066                         PEMATANGAN LAHAN RUSUNAWA    \n",
       "1        24338066  PENGADAAN, PEMASANGAN POMPA LISTRIK DAN INSTAL...   \n",
       "2        24337066  PENGADAAN DAN PEMASANGAN POMPA LISTRIK DAN INS...   \n",
       "3        24336066  PENGADAAN, PEMASANGAN POMPA LISTRIK DAN INSTAL...   \n",
       "4        24335066  PENGADAAN, PEMASANGAN POMPA LISTRIK DAN INSTAL...   \n",
       "...           ...                                                ...   \n",
       "8292         5066  PENGADAAN OBAT PADA KEGIATAN PENGADAAN OBAT DA...   \n",
       "8293         4066       PENGADAAN PAKAIAN DINAS DPRD KOTA TANGERANG    \n",
       "8294         3066  PENGADAAN MEUBELAIR KELURAHAN TAHUN ANGGARAN 2010   \n",
       "8295         2066                                     PENUNJANG TMMD   \n",
       "8296         1066  PENGADAAN PRASARANA DAN PERLENGKAPAN POSYANDU ...   \n",
       "\n",
       "                                SATKER                 KUALIFIKASI  \\\n",
       "0     PEMERINTAH DAERAH KOTA TANGERANG  PASCAKUALIFIKASI SATU FILE   \n",
       "1     PEMERINTAH DAERAH KOTA TANGERANG  PASCAKUALIFIKASI SATU FILE   \n",
       "2     PEMERINTAH DAERAH KOTA TANGERANG  PASCAKUALIFIKASI SATU FILE   \n",
       "3     PEMERINTAH DAERAH KOTA TANGERANG  PASCAKUALIFIKASI SATU FILE   \n",
       "4     PEMERINTAH DAERAH KOTA TANGERANG  PASCAKUALIFIKASI SATU FILE   \n",
       "...                                ...                         ...   \n",
       "8292                    KOTA TANGERANG  PASCAKUALIFIKASI SATU FILE   \n",
       "8293                    KOTA TANGERANG  PASCAKUALIFIKASI SATU FILE   \n",
       "8294                    KOTA TANGERANG  PASCAKUALIFIKASI SATU FILE   \n",
       "8295                    KOTA TANGERANG  PASCAKUALIFIKASI SATU FILE   \n",
       "8296                    KOTA TANGERANG  PASCAKUALIFIKASI SATU FILE   \n",
       "\n",
       "           METODE                     EVALUASI                 JENIS  TAHUN  \\\n",
       "0          TENDER  HARGA TERENDAH SISTEM GUGUR  PEKERJAAN KONSTRUKSI   2022   \n",
       "1          TENDER  HARGA TERENDAH SISTEM GUGUR      PENGADAAN BARANG   2022   \n",
       "2          TENDER  HARGA TERENDAH SISTEM GUGUR      PENGADAAN BARANG   2022   \n",
       "3          TENDER  HARGA TERENDAH SISTEM GUGUR      PENGADAAN BARANG   2022   \n",
       "4          TENDER  HARGA TERENDAH SISTEM GUGUR      PENGADAAN BARANG   2022   \n",
       "...           ...                          ...                   ...    ...   \n",
       "8292  LELANG UMUM  HARGA TERENDAH SISTEM GUGUR      PENGADAAN BARANG   2010   \n",
       "8293  LELANG UMUM  HARGA TERENDAH SISTEM GUGUR      PENGADAAN BARANG   2010   \n",
       "8294  LELANG UMUM  HARGA TERENDAH SISTEM GUGUR      PENGADAAN BARANG   2010   \n",
       "8295  LELANG UMUM  HARGA TERENDAH SISTEM GUGUR      PENGADAAN BARANG   2010   \n",
       "8296  LELANG UMUM  HARGA TERENDAH SISTEM GUGUR      PENGADAAN BARANG   2010   \n",
       "\n",
       "      IS_GAGAL           HPS  \n",
       "0            0  2.200000e+09  \n",
       "1            0  3.841000e+08  \n",
       "2            0  2.164000e+08  \n",
       "3            0  3.841000e+08  \n",
       "4            0  3.841000e+08  \n",
       "...        ...           ...  \n",
       "8292         0  7.354000e+08  \n",
       "8293         0  3.632000e+08  \n",
       "8294         0  8.886000e+08  \n",
       "8295         0  1.481000e+08  \n",
       "8296         0  6.653000e+08  \n",
       "\n",
       "[8297 rows x 10 columns]"
      ]
     },
     "execution_count": 4,
     "metadata": {},
     "output_type": "execute_result"
    }
   ],
   "source": [
    "df_lelang"
   ]
  },
  {
   "cell_type": "code",
   "execution_count": 438,
   "metadata": {},
   "outputs": [
    {
     "data": {
      "text/plain": [
       "KDOE_LELANG           int64\n",
       "NAMA_PAKET           object\n",
       "SATKER               object\n",
       "KUALIFIKASI          object\n",
       "METODE               object\n",
       "EVALUASI             object\n",
       "JENIS                object\n",
       "TAHUN                 int64\n",
       "IS_GAGAL           category\n",
       "HPS                 float64\n",
       "JENIS_ENC          category\n",
       "METODE_ENC         category\n",
       "KUALIFIKASI_ENC    category\n",
       "EVALUASI_ENC       category\n",
       "HPS_ENC            category\n",
       "dtype: object"
      ]
     },
     "execution_count": 438,
     "metadata": {},
     "output_type": "execute_result"
    }
   ],
   "source": [
    "# tipe data\n",
    "df_lelang.dtypes"
   ]
  },
  {
   "cell_type": "code",
   "execution_count": 439,
   "metadata": {},
   "outputs": [
    {
     "data": {
      "text/html": [
       "<div>\n",
       "<style scoped>\n",
       "    .dataframe tbody tr th:only-of-type {\n",
       "        vertical-align: middle;\n",
       "    }\n",
       "\n",
       "    .dataframe tbody tr th {\n",
       "        vertical-align: top;\n",
       "    }\n",
       "\n",
       "    .dataframe thead th {\n",
       "        text-align: right;\n",
       "    }\n",
       "</style>\n",
       "<table border=\"1\" class=\"dataframe\">\n",
       "  <thead>\n",
       "    <tr style=\"text-align: right;\">\n",
       "      <th></th>\n",
       "      <th>KDOE_LELANG</th>\n",
       "      <th>TAHUN</th>\n",
       "      <th>HPS</th>\n",
       "    </tr>\n",
       "  </thead>\n",
       "  <tbody>\n",
       "    <tr>\n",
       "      <th>count</th>\n",
       "      <td>8.276000e+03</td>\n",
       "      <td>8276.000000</td>\n",
       "      <td>8.276000e+03</td>\n",
       "    </tr>\n",
       "    <tr>\n",
       "      <th>mean</th>\n",
       "      <td>7.205778e+06</td>\n",
       "      <td>2015.810657</td>\n",
       "      <td>9.920671e+08</td>\n",
       "    </tr>\n",
       "    <tr>\n",
       "      <th>std</th>\n",
       "      <td>7.079831e+06</td>\n",
       "      <td>3.338402</td>\n",
       "      <td>2.687143e+09</td>\n",
       "    </tr>\n",
       "    <tr>\n",
       "      <th>min</th>\n",
       "      <td>1.066000e+03</td>\n",
       "      <td>2010.000000</td>\n",
       "      <td>1.000000e+05</td>\n",
       "    </tr>\n",
       "    <tr>\n",
       "      <th>25%</th>\n",
       "      <td>2.323816e+06</td>\n",
       "      <td>2013.000000</td>\n",
       "      <td>2.809750e+08</td>\n",
       "    </tr>\n",
       "    <tr>\n",
       "      <th>50%</th>\n",
       "      <td>4.528566e+06</td>\n",
       "      <td>2016.000000</td>\n",
       "      <td>4.000000e+08</td>\n",
       "    </tr>\n",
       "    <tr>\n",
       "      <th>75%</th>\n",
       "      <td>7.880316e+06</td>\n",
       "      <td>2018.000000</td>\n",
       "      <td>8.000000e+08</td>\n",
       "    </tr>\n",
       "    <tr>\n",
       "      <th>max</th>\n",
       "      <td>2.434507e+07</td>\n",
       "      <td>2022.000000</td>\n",
       "      <td>1.240000e+11</td>\n",
       "    </tr>\n",
       "  </tbody>\n",
       "</table>\n",
       "</div>"
      ],
      "text/plain": [
       "        KDOE_LELANG        TAHUN           HPS\n",
       "count  8.276000e+03  8276.000000  8.276000e+03\n",
       "mean   7.205778e+06  2015.810657  9.920671e+08\n",
       "std    7.079831e+06     3.338402  2.687143e+09\n",
       "min    1.066000e+03  2010.000000  1.000000e+05\n",
       "25%    2.323816e+06  2013.000000  2.809750e+08\n",
       "50%    4.528566e+06  2016.000000  4.000000e+08\n",
       "75%    7.880316e+06  2018.000000  8.000000e+08\n",
       "max    2.434507e+07  2022.000000  1.240000e+11"
      ]
     },
     "execution_count": 439,
     "metadata": {},
     "output_type": "execute_result"
    }
   ],
   "source": [
    "# desc statistik untuk variabel numerik\n",
    "df_lelang.describe()"
   ]
  },
  {
   "cell_type": "code",
   "execution_count": 390,
   "metadata": {},
   "outputs": [
    {
     "name": "stdout",
     "output_type": "stream",
     "text": [
      "<class 'pandas.core.frame.DataFrame'>\n",
      "RangeIndex: 8297 entries, 0 to 8296\n",
      "Data columns (total 10 columns):\n",
      " #   Column       Non-Null Count  Dtype  \n",
      "---  ------       --------------  -----  \n",
      " 0   KDOE_LELANG  8297 non-null   int64  \n",
      " 1   NAMA_PAKET   8297 non-null   object \n",
      " 2   SATKER       8297 non-null   object \n",
      " 3   KUALIFIKASI  8297 non-null   object \n",
      " 4   METODE       8297 non-null   object \n",
      " 5   EVALUASI     8297 non-null   object \n",
      " 6   JENIS        8297 non-null   object \n",
      " 7   TAHUN        8297 non-null   int64  \n",
      " 8   IS_GAGAL     8297 non-null   int64  \n",
      " 9   HPS          8297 non-null   float64\n",
      "dtypes: float64(1), int64(3), object(6)\n",
      "memory usage: 648.3+ KB\n"
     ]
    }
   ],
   "source": [
    "df_lelang.info()"
   ]
  },
  {
   "cell_type": "code",
   "execution_count": 440,
   "metadata": {},
   "outputs": [
    {
     "data": {
      "text/plain": [
       "KDOE_LELANG        0\n",
       "NAMA_PAKET         0\n",
       "SATKER             0\n",
       "KUALIFIKASI        0\n",
       "METODE             0\n",
       "EVALUASI           0\n",
       "JENIS              0\n",
       "TAHUN              0\n",
       "IS_GAGAL           0\n",
       "HPS                0\n",
       "JENIS_ENC          0\n",
       "METODE_ENC         0\n",
       "KUALIFIKASI_ENC    0\n",
       "EVALUASI_ENC       0\n",
       "HPS_ENC            0\n",
       "dtype: int64"
      ]
     },
     "execution_count": 440,
     "metadata": {},
     "output_type": "execute_result"
    }
   ],
   "source": [
    "# missing value\n",
    "df_lelang.isnull().sum()"
   ]
  },
  {
   "cell_type": "markdown",
   "metadata": {},
   "source": [
    "#### Data prep\n"
   ]
  },
  {
   "cell_type": "markdown",
   "metadata": {},
   "source": [
    "##### Mencari data yang HPS-nya = 0"
   ]
  },
  {
   "cell_type": "code",
   "execution_count": 442,
   "metadata": {},
   "outputs": [
    {
     "data": {
      "text/plain": [
       "(0, 15)"
      ]
     },
     "execution_count": 442,
     "metadata": {},
     "output_type": "execute_result"
    }
   ],
   "source": [
    "df_lelang.query(\"HPS == 0\").shape #ada 15 records data yang HPS-nya 0\n"
   ]
  },
  {
   "cell_type": "markdown",
   "metadata": {},
   "source": [
    "##### Menghapus data yang HPS = 0"
   ]
  },
  {
   "cell_type": "code",
   "execution_count": 443,
   "metadata": {},
   "outputs": [],
   "source": [
    "df_lelang = df_lelang.query(\"HPS != 0\")\n"
   ]
  },
  {
   "cell_type": "markdown",
   "metadata": {},
   "source": [
    "##### Ubah tipe data variable IS_GAGAl menjadi category"
   ]
  },
  {
   "cell_type": "code",
   "execution_count": 394,
   "metadata": {},
   "outputs": [],
   "source": [
    "df_lelang['IS_GAGAL']=df_lelang['IS_GAGAL'].astype('category')"
   ]
  },
  {
   "cell_type": "markdown",
   "metadata": {},
   "source": [
    "##### Transform variable JENIS menjadi category"
   ]
  },
  {
   "cell_type": "code",
   "execution_count": 395,
   "metadata": {},
   "outputs": [
    {
     "data": {
      "text/plain": [
       "array(['PEKERJAAN KONSTRUKSI', 'PENGADAAN BARANG',\n",
       "       'JASA KONSULTANSI BADAN USAHA NON KONSTRUKSI',\n",
       "       'JASA KONSULTANSI BADAN USAHA KONSTRUKSI', 'JASA LAINNYA',\n",
       "       'JASA KONSULTANSI BADAN USAHA', 'JASA KONSULTANSI PERORANGAN'],\n",
       "      dtype=object)"
      ]
     },
     "execution_count": 395,
     "metadata": {},
     "output_type": "execute_result"
    }
   ],
   "source": [
    "df_lelang['JENIS'].unique()"
   ]
  },
  {
   "cell_type": "code",
   "execution_count": 396,
   "metadata": {},
   "outputs": [
    {
     "data": {
      "text/plain": [
       "[5, 6, 2, 1, 4, 0, 3]\n",
       "Categories (7, int64): [0, 1, 2, 3, 4, 5, 6]"
      ]
     },
     "execution_count": 396,
     "metadata": {},
     "output_type": "execute_result"
    }
   ],
   "source": [
    "\n",
    "df_lelang['JENIS_ENC'] = le.fit_transform(df_lelang['JENIS'])\n",
    "df_lelang['JENIS_ENC'] = df_lelang['JENIS_ENC'].astype('category')\n",
    "df_lelang['JENIS_ENC'].unique()\n",
    "#df_lelang[['KDOE_LELANG','JENIS','JENIS_ENC']].sample(3)"
   ]
  },
  {
   "cell_type": "markdown",
   "metadata": {},
   "source": [
    "##### Transform variable METODE menjadi category"
   ]
  },
  {
   "cell_type": "code",
   "execution_count": 397,
   "metadata": {},
   "outputs": [
    {
     "data": {
      "text/plain": [
       "array(['TENDER', 'SELEKSI', 'PENGADAAN LANGSUNG', 'TENDER CEPAT',\n",
       "       'LELANG PEMILIHAN LANGSUNG', 'LELANG SEDERHANA', 'LELANG UMUM',\n",
       "       'SELEKSI SEDERHANA', 'SELEKSI UMUM', 'SELEKSI CEPAT'], dtype=object)"
      ]
     },
     "execution_count": 397,
     "metadata": {},
     "output_type": "execute_result"
    }
   ],
   "source": [
    "df_lelang['METODE'].unique()"
   ]
  },
  {
   "cell_type": "code",
   "execution_count": 398,
   "metadata": {},
   "outputs": [
    {
     "data": {
      "text/plain": [
       "[8, 4, 3, 9, 0, 1, 2, 6, 7, 5]\n",
       "Categories (10, int64): [0, 1, 2, 3, ..., 6, 7, 8, 9]"
      ]
     },
     "execution_count": 398,
     "metadata": {},
     "output_type": "execute_result"
    }
   ],
   "source": [
    "\n",
    "df_lelang['METODE_ENC'] = le.fit_transform(df_lelang['METODE'])\n",
    "df_lelang['METODE_ENC'] = df_lelang['METODE_ENC'].astype('category')\n",
    "df_lelang['METODE_ENC'].unique()\n",
    "# df_lelang[['KDOE_LELANG','METODE','METODE_ENC']].sample(3)"
   ]
  },
  {
   "cell_type": "markdown",
   "metadata": {},
   "source": [
    "##### Transform variable KUALIFIKASI menjadi category"
   ]
  },
  {
   "cell_type": "code",
   "execution_count": 399,
   "metadata": {},
   "outputs": [
    {
     "data": {
      "text/plain": [
       "array(['PASCAKUALIFIKASI SATU FILE', 'PRAKUALIFIKASI DUA FILE',\n",
       "       'PRAKUALIFIKASI SATU FILE'], dtype=object)"
      ]
     },
     "execution_count": 399,
     "metadata": {},
     "output_type": "execute_result"
    }
   ],
   "source": [
    "df_lelang['KUALIFIKASI'].unique()"
   ]
  },
  {
   "cell_type": "code",
   "execution_count": 400,
   "metadata": {},
   "outputs": [
    {
     "data": {
      "text/plain": [
       "[0, 1, 2]\n",
       "Categories (3, int64): [0, 1, 2]"
      ]
     },
     "execution_count": 400,
     "metadata": {},
     "output_type": "execute_result"
    }
   ],
   "source": [
    "df_lelang['KUALIFIKASI_ENC'] = le.fit_transform(df_lelang['KUALIFIKASI'])\n",
    "df_lelang['KUALIFIKASI_ENC'] = df_lelang['KUALIFIKASI_ENC'].astype('category')\n",
    "df_lelang['KUALIFIKASI_ENC'].unique()\n",
    "# df_lelang[['KDOE_LELANG','METODE','METODE_ENC','KUALIFIKASI','KUALIFIKASI_ENC']].sample(3)"
   ]
  },
  {
   "cell_type": "markdown",
   "metadata": {},
   "source": [
    "##### Transform variable EVALUASI menjadi category"
   ]
  },
  {
   "cell_type": "code",
   "execution_count": 401,
   "metadata": {},
   "outputs": [
    {
     "data": {
      "text/plain": [
       "array(['HARGA TERENDAH SISTEM GUGUR', 'KUALITAS DAN BIAYA',\n",
       "       'PAGU ANGGARAN', 'KUALITAS', 'BIAYA TERENDAH', 'SISTEM NILAI'],\n",
       "      dtype=object)"
      ]
     },
     "execution_count": 401,
     "metadata": {},
     "output_type": "execute_result"
    }
   ],
   "source": [
    "df_lelang['EVALUASI'].unique()"
   ]
  },
  {
   "cell_type": "code",
   "execution_count": 445,
   "metadata": {},
   "outputs": [
    {
     "data": {
      "text/plain": [
       "[1, 3, 4, 2, 0, 5]\n",
       "Categories (6, int64): [0, 1, 2, 3, 4, 5]"
      ]
     },
     "execution_count": 445,
     "metadata": {},
     "output_type": "execute_result"
    }
   ],
   "source": [
    "df_lelang['EVALUASI_ENC'] = le.fit_transform(df_lelang['EVALUASI'])\n",
    "df_lelang['EVALUASI_ENC'] = df_lelang['EVALUASI_ENC'].astype('category')\n",
    "df_lelang['EVALUASI_ENC'].unique()\n",
    "# df_lelang[['KDOE_LELANG','METODE','METODE_ENC','EVALUASI','EVALUASI_ENC']].sample(3)"
   ]
  },
  {
   "cell_type": "markdown",
   "metadata": {},
   "source": [
    "##### Transform variable HPS menjadi 6 class (kategori)"
   ]
  },
  {
   "cell_type": "code",
   "execution_count": 446,
   "metadata": {},
   "outputs": [],
   "source": [
    "# binning untuk variable HPS\n",
    "# 0 - 200 jt\n",
    "# 200 jt - 1M\n",
    "# 1M - 10M\n",
    "# 10M - 25M\n",
    "# 25M - 50M\n",
    "# >50M\n",
    "\n",
    "class_HPS = [0, 200000000, 1000000000, 10000000000, 25000000000, 50000000000, 200000000000]\n",
    "#HPS_label = ['<200 JT', '<1M', '<10M','<25M','<50M','>50M']\n",
    "HPS_label = ['1', '2', '3','4','5','6']\n",
    "df_lelang['HPS_ENC'] = pd.cut(df_lelang['HPS'], bins=class_HPS, labels=HPS_label, include_lowest=True)"
   ]
  },
  {
   "cell_type": "markdown",
   "metadata": {},
   "source": [
    "##### Cek missing value setelah transform"
   ]
  },
  {
   "cell_type": "code",
   "execution_count": 447,
   "metadata": {},
   "outputs": [
    {
     "data": {
      "text/plain": [
       "KDOE_LELANG        0\n",
       "NAMA_PAKET         0\n",
       "SATKER             0\n",
       "KUALIFIKASI        0\n",
       "METODE             0\n",
       "EVALUASI           0\n",
       "JENIS              0\n",
       "TAHUN              0\n",
       "IS_GAGAL           0\n",
       "HPS                0\n",
       "JENIS_ENC          0\n",
       "METODE_ENC         0\n",
       "KUALIFIKASI_ENC    0\n",
       "EVALUASI_ENC       0\n",
       "HPS_ENC            0\n",
       "dtype: int64"
      ]
     },
     "execution_count": 447,
     "metadata": {},
     "output_type": "execute_result"
    }
   ],
   "source": [
    "df_lelang.isnull().sum()"
   ]
  },
  {
   "cell_type": "code",
   "execution_count": 404,
   "metadata": {},
   "outputs": [],
   "source": [
    "# One Hot Encoding untuk kolom EVALUASI\n",
    "\n",
    "# from sklearn.preprocessing import OneHotEncoder\n",
    "# ohc = OneHotEncoder(handle_unknown='ignore')\n",
    "# new_features = ohc.fit_transform(df_lelang[['EVALUASI']])\n",
    "# cols_name= [x for x in df_lelang['EVALUASI'].unique()]\n",
    "# df_lelang_ohc = pd.DataFrame(new_features.toarray(), columns=cols_name)\n",
    "# df_lelang_ohc.sample(3)\n",
    "\n"
   ]
  },
  {
   "cell_type": "code",
   "execution_count": 405,
   "metadata": {},
   "outputs": [],
   "source": [
    "# menggabungkan kolom hasil OHE ke dataframe awal\n",
    "# df_lelang = pd.concat([df_lelang, df_lelang_ohc], axis=1)\n",
    "# df_lelang.sample(5)"
   ]
  },
  {
   "cell_type": "markdown",
   "metadata": {},
   "source": [
    "### Visualisasi data lelang gagal vs sukses"
   ]
  },
  {
   "cell_type": "code",
   "execution_count": 409,
   "metadata": {},
   "outputs": [
    {
     "name": "stdout",
     "output_type": "stream",
     "text": [
      "0    7743\n",
      "1     533\n",
      "Name: IS_GAGAL, dtype: int64\n"
     ]
    },
    {
     "data": {
      "image/png": "[encoded data removed]",
      "text/plain": [
       "<Figure size 2000x800 with 1 Axes>"
      ]
     },
     "metadata": {},
     "output_type": "display_data"
    }
   ],
   "source": [
    "import seaborn as sns\n",
    "\n",
    "sns.set(rc={'figure.figsize':(20,8)})\n",
    "\n",
    "sns.barplot(x=df_lelang['IS_GAGAL'].value_counts().index, y=df_lelang['IS_GAGAL'].value_counts())\n",
    "print(df_lelang['IS_GAGAL'].value_counts())"
   ]
  },
  {
   "cell_type": "markdown",
   "metadata": {},
   "source": [
    "### Modelling "
   ]
  },
  {
   "cell_type": "code",
   "execution_count": 651,
   "metadata": {},
   "outputs": [],
   "source": [
    "# pilih variable yang akan digunakan\n",
    "df_lelang_model = df_lelang[\n",
    "    ['KDOE_LELANG',\n",
    "    # 'NAMA_PAKET',\n",
    "     'JENIS_ENC',\n",
    "     'METODE_ENC',\n",
    "     'KUALIFIKASI_ENC',\n",
    "     'HPS_ENC',\n",
    "     'IS_GAGAL']]\n"
   ]
  },
  {
   "cell_type": "code",
   "execution_count": 652,
   "metadata": {},
   "outputs": [],
   "source": [
    "# Definisikan target variable\n",
    "X_train = df_lelang_model.drop('IS_GAGAL',axis=1) # feature\n",
    "y_train = df_lelang_model['IS_GAGAL'] # target"
   ]
  },
  {
   "cell_type": "code",
   "execution_count": 654,
   "metadata": {},
   "outputs": [
    {
     "name": "stdout",
     "output_type": "stream",
     "text": [
      "(5807, 11) (8276,) (1058, 11) (1242,)\n"
     ]
    }
   ],
   "source": [
    "# split tdata menjadi training dan testing\n",
    "#X_train, X_eval, y_train, y_eval = train_test_split(X_train, y_train, test_size=0.15, random_state=42)\n",
    "print(x_train.shape, y_train.shape, x_eval.shape, y_eval.shape) "
   ]
  },
  {
   "cell_type": "code",
   "execution_count": 655,
   "metadata": {},
   "outputs": [
    {
     "name": "stdout",
     "output_type": "stream",
     "text": [
      "(5793, 5) (5793,) (1241, 5) (1241,) (1242, 5) (1242,)\n"
     ]
    }
   ],
   "source": [
    "# split tdata menjadi training dan testing\n",
    "\n",
    "X_train, y_train, X_valid, y_valid, X_test, y_test = train_valid_test_split(df_lelang_model, \n",
    "                                                                            target = 'IS_GAGAL', \n",
    "                                                                            train_size=0.7,) \n",
    "print(X_train.shape, y_train.shape, X_valid.shape, y_valid.shape, X_test.shape, y_test.shape)"
   ]
  },
  {
   "cell_type": "code",
   "execution_count": 667,
   "metadata": {},
   "outputs": [
    {
     "name": "stdout",
     "output_type": "stream",
     "text": [
      "Accuracy DT Hold Out :  0.9331184528605962\n",
      "Accuracy KNN Hold Out :  0.9548751007252216\n",
      "Accuracy SVC Hold Out :  0.9508460918614021\n",
      "Accuracy RandF Hold Out :  0.935535858178888\n",
      "Accuracy Ada Hold Out :  0.9500402900886382\n"
     ]
    }
   ],
   "source": [
    "models = {\n",
    "          #'Perc': Perceptron(),\n",
    "          'DT': DecisionTreeClassifier(),\n",
    "          'KNN': KNeighborsClassifier(),\n",
    "          #'NB': GaussianNB(), \n",
    "          'SVC': SVC(),\n",
    "          #'Vot': VotingClassifier(), \n",
    "          #'Stack': StackingClassifier(), \n",
    "          'RandF': RandomForestClassifier(), \n",
    "          'Ada': AdaBoostClassifier(),\n",
    "          #'XG': XGBClassifier(enable_categorical=True)\n",
    "          }\n",
    "\n",
    "for name, model in models.items():\n",
    "  # fit model pada data training\n",
    "  model.fit(X_train,y_train)\n",
    "\n",
    "  # hitung metric performa\n",
    "  prediction = model.predict(X_valid)\n",
    "  score = accuracy_score(y_valid, prediction)\n",
    "  # print(type(score))\n",
    "  print (\"Accuracy\",name, \"Hold Out : \", score)"
   ]
  },
  {
   "cell_type": "code",
   "execution_count": 660,
   "metadata": {},
   "outputs": [
    {
     "name": "stdout",
     "output_type": "stream",
     "text": [
      "Accuracy K-Fold DT : [1. 1. 1. 1. 1. 1. 1. 1. 1. 1. 1. 1. 1. 1. 1.] [0.9121447  0.91731266 0.90697674 0.93005181 0.91968912 0.94559585\n",
      " 0.94041451 0.92746114 0.93523316 0.92487047 0.90414508 0.92227979\n",
      " 0.91968912 0.94818653 0.90673575]\n",
      "Accuracy K-Fold KNN : [0.95190529 0.95338513 0.95246023 0.95302386 0.95209913 0.95154429\n",
      " 0.95302386 0.95172924 0.95080451 0.95246902 0.95505826 0.95283891\n",
      " 0.95283891 0.95283891 0.95154429] [0.9379845  0.93281654 0.93281654 0.94559585 0.9611399  0.95854922\n",
      " 0.94559585 0.94300518 0.93523316 0.9507772  0.92746114 0.93264249\n",
      " 0.93523316 0.94559585 0.94041451]\n",
      "Accuracy K-Fold SVC : [0.93211247 0.93211247 0.93192749 0.93138524 0.93027557 0.93194008\n",
      " 0.93138524 0.93138524 0.93138524 0.93101535 0.93230997 0.93157019\n",
      " 0.93249491 0.93157019 0.93175513] [0.9250646  0.9250646  0.92764858 0.93523316 0.9507772  0.92746114\n",
      " 0.93523316 0.93523316 0.93523316 0.94041451 0.92227979 0.93264249\n",
      " 0.91968912 0.93264249 0.93005181]\n",
      "Accuracy K-Fold RandF : [0.99981502 0.99981502 0.99981502 1.         0.99981505 0.99981505\n",
      " 0.99981505 0.99944516 0.99981505 0.99981505 0.99981505 0.99981505\n",
      " 1.         0.99981505 0.99981505] [0.91989664 0.93281654 0.91472868 0.92227979 0.92227979 0.94559585\n",
      " 0.93523316 0.93264249 0.92746114 0.91968912 0.90932642 0.92227979\n",
      " 0.91968912 0.9507772  0.91709845]\n",
      "Accuracy K-Fold Ada : [0.93692194 0.93858676 0.93784684 0.93711855 0.93508415 0.93619382\n",
      " 0.9373035  0.93822822 0.93748844 0.93767339 0.93711855 0.93748844\n",
      " 0.9352691  0.93767339 0.93748844] [0.92764858 0.92764858 0.93281654 0.94300518 0.95336788 0.93523316\n",
      " 0.93782383 0.93523316 0.94300518 0.93523316 0.92487047 0.93782383\n",
      " 0.91709845 0.93523316 0.93523316]\n"
     ]
    }
   ],
   "source": [
    "accuracy=[]\n",
    "scores_kfold=[]\n",
    "folds = KFold(n_splits = 15, shuffle = True, random_state = 42)\n",
    "for name, model in models.items():\n",
    "    #scores_kfold = cross_val_score(model, X_train, y_train, scoring='accuracy', cv=folds)\n",
    "    scores_kfold = cross_validate(model, X_train, y_train, scoring='accuracy', cv=folds, return_train_score= True)\n",
    "    #accuracy = [name, scores_kfold['train_score'], scores_kfold['test_score']]\n",
    "    # accuracy.append(name)\n",
    "    print (\"Accuracy K-Fold\",  name, \":\", scores_kfold['train_score'], scores_kfold['test_score'])\n",
    "     \n",
    "    # print(type(scores_kfold))\n",
    "    # print (\"Accuracy K-Fold\",  name, \":\", np.average(scores_kfold))\n",
    "    #result = pd.Series(name, scores_kfold)\n",
    "    # (\"Accuracy K-Fold\",  name, \":\", scores_kfold)    \n"
   ]
  },
  {
   "cell_type": "code",
   "execution_count": 662,
   "metadata": {},
   "outputs": [],
   "source": [
    "#Perbandingan Model\n",
    "#model_lr = LogisticRegression()\n",
    "#model_nb = GaussianNB()\n",
    "# model_dt = DecisionTreeClassifier(),\n",
    "DT =  DecisionTreeClassifier()\n",
    "KNN =  KNeighborsClassifier()\n",
    "SVC =  SVC()\n",
    "RandF = RandomForestClassifier()\n",
    "Ada = AdaBoostClassifier()\n",
    "# pendekatan cv lain nya untuk dapat melihat score validasi dan training\n",
    "#score_lr = cross_validate(model_lr, X_train, y_train, scoring='accuracy', cv=folds, return_train_score= True)\n",
    "#score_nb = cross_validate(model_nb, X_train, y_train, scoring='accuracy', cv=folds, return_train_score= True)\n",
    "score_dt = cross_validate(DT, X_train, y_train, scoring='accuracy', cv=folds, return_train_score= True)\n",
    "score_knn = cross_validate(KNN, X_train, y_train, scoring='accuracy', cv=folds, return_train_score= True)\n",
    "score_svc = cross_validate(SVC, X_train, y_train, scoring='accuracy', cv=folds, return_train_score= True)\n",
    "score_randf = cross_validate(RandF, X_train, y_train, scoring='accuracy', cv=folds, return_train_score= True)\n",
    "score_ada = cross_validate(Ada, X_train, y_train, scoring='accuracy', cv=folds, return_train_score= True)\n",
    "\n",
    "\n"
   ]
  },
  {
   "cell_type": "code",
   "execution_count": 664,
   "metadata": {},
   "outputs": [
    {
     "data": {
      "text/plain": [
       "KNN Train         0.952504\n",
       "KNN Test          0.941657\n",
       "RandF Train       0.999864\n",
       "RandF Test        0.927328\n",
       "SVC Train         0.931642\n",
       "SVC Test          0.931645\n",
       "Adaboost Train    0.937166\n",
       "Adaboost Test     0.934752\n",
       "DT Train          1.000000\n",
       "DT Test           0.923533\n",
       "dtype: float64"
      ]
     },
     "execution_count": 664,
     "metadata": {},
     "output_type": "execute_result"
    },
    {
     "data": {
      "image/png": "[encoded data removed]",
      "text/plain": [
       "<Figure size 2000x800 with 1 Axes>"
      ]
     },
     "metadata": {},
     "output_type": "display_data"
    }
   ],
   "source": [
    "column = {'KNN Train': score_knn['train_score'], 'KNN Test': score_knn['test_score'],\n",
    "          'RandF Train': score_randf['train_score'], 'RandF Test': score_randf['test_score'],\n",
    "          'SVC Train': score_svc['train_score'], 'SVC Test': score_svc['test_score'],\n",
    "          'Adaboost Train': score_ada['train_score'], 'Adaboost Test': score_ada['test_score'],\n",
    "          'DT Train': score_dt['train_score'], 'DT Test': score_dt['test_score']}\n",
    "df = pd.DataFrame(data=column)\n",
    "plot = sns.boxplot(data = df, linewidth=2.5)\n",
    "df.mean()\n",
    "\n",
    "# 3 model terbaik adalah KNN, adaboost, dan SVM\n",
    "# Random Forest dan Decision Tree overfit"
   ]
  },
  {
   "cell_type": "markdown",
   "metadata": {},
   "source": [
    "### Prediction"
   ]
  },
  {
   "cell_type": "code",
   "execution_count": null,
   "metadata": {},
   "outputs": [],
   "source": [
    "submit_predict = model.predict(x_test)"
   ]
  }
 ],
 "metadata": {
  "kernelspec": {
   "display_name": "Python 3.10.8 64-bit (microsoft store)",
   "language": "python",
   "name": "python3"
  },
  "language_info": {
   "codemirror_mode": {
    "name": "ipython",
    "version": 3
   },
   "file_extension": ".py",
   "mimetype": "text/x-python",
   "name": "python",
   "nbconvert_exporter": "python",
   "pygments_lexer": "ipython3",
   "version": "3.10.8"
  },
  "orig_nbformat": 4,
  "vscode": {
   "interpreter": {
    "hash": "56f6d95d91e18beed7517f6ac4af71dcdc0de6c61845c06304b94e57fb70ad90"
   }
  }
 },
 "nbformat": 4,
 "nbformat_minor": 2
}
